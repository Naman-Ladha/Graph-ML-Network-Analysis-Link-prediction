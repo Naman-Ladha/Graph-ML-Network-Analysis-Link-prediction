{
  "nbformat": 4,
  "nbformat_minor": 0,
  "metadata": {
    "colab": {
      "name": "Final SNA.ipynb",
      "provenance": [],
      "collapsed_sections": [],
      "machine_shape": "hm"
    },
    "kernelspec": {
      "name": "python3",
      "display_name": "Python 3"
    },
    "language_info": {
      "name": "python"
    },
    "accelerator": "GPU",
    "widgets": {
      "application/vnd.jupyter.widget-state+json": {
        "2b71c572d15d44bb8de81ee14e214a31": {
          "model_module": "@jupyter-widgets/controls",
          "model_name": "HBoxModel",
          "state": {
            "_view_name": "HBoxView",
            "_dom_classes": [],
            "_model_name": "HBoxModel",
            "_view_module": "@jupyter-widgets/controls",
            "_model_module_version": "1.5.0",
            "_view_count": null,
            "_view_module_version": "1.5.0",
            "box_style": "",
            "layout": "IPY_MODEL_a67edefaadee47be907d2e81580f0c09",
            "_model_module": "@jupyter-widgets/controls",
            "children": [
              "IPY_MODEL_52145daec46941e0b50a8b1a9dd4201d",
              "IPY_MODEL_91f140c19214427d83606c4b7681fb75"
            ]
          },
          "model_module_version": "1.5.0"
        },
        "a67edefaadee47be907d2e81580f0c09": {
          "model_module": "@jupyter-widgets/base",
          "model_name": "LayoutModel",
          "state": {
            "_view_name": "LayoutView",
            "grid_template_rows": null,
            "right": null,
            "justify_content": null,
            "_view_module": "@jupyter-widgets/base",
            "overflow": null,
            "_model_module_version": "1.2.0",
            "_view_count": null,
            "flex_flow": null,
            "width": null,
            "min_width": null,
            "border": null,
            "align_items": null,
            "bottom": null,
            "_model_module": "@jupyter-widgets/base",
            "top": null,
            "grid_column": null,
            "overflow_y": null,
            "overflow_x": null,
            "grid_auto_flow": null,
            "grid_area": null,
            "grid_template_columns": null,
            "flex": null,
            "_model_name": "LayoutModel",
            "justify_items": null,
            "grid_row": null,
            "max_height": null,
            "align_content": null,
            "visibility": null,
            "align_self": null,
            "height": null,
            "min_height": null,
            "padding": null,
            "grid_auto_rows": null,
            "grid_gap": null,
            "max_width": null,
            "order": null,
            "_view_module_version": "1.2.0",
            "grid_template_areas": null,
            "object_position": null,
            "object_fit": null,
            "grid_auto_columns": null,
            "margin": null,
            "display": null,
            "left": null
          },
          "model_module_version": "1.2.0"
        },
        "52145daec46941e0b50a8b1a9dd4201d": {
          "model_module": "@jupyter-widgets/controls",
          "model_name": "FloatProgressModel",
          "state": {
            "_view_name": "ProgressView",
            "style": "IPY_MODEL_3e973a50d6114a81a77c31566cb305b8",
            "_dom_classes": [],
            "description": "Computing transition probabilities: 100%",
            "_model_name": "FloatProgressModel",
            "bar_style": "success",
            "max": 18616,
            "_view_module": "@jupyter-widgets/controls",
            "_model_module_version": "1.5.0",
            "value": 18616,
            "_view_count": null,
            "_view_module_version": "1.5.0",
            "orientation": "horizontal",
            "min": 0,
            "description_tooltip": null,
            "_model_module": "@jupyter-widgets/controls",
            "layout": "IPY_MODEL_e565dac931de4dc8896301836f745ffe"
          },
          "model_module_version": "1.5.0"
        },
        "91f140c19214427d83606c4b7681fb75": {
          "model_module": "@jupyter-widgets/controls",
          "model_name": "HTMLModel",
          "state": {
            "_view_name": "HTMLView",
            "style": "IPY_MODEL_ebcd32c4771c4dfcb9ce7abb9a0e2036",
            "_dom_classes": [],
            "description": "",
            "_model_name": "HTMLModel",
            "placeholder": "​",
            "_view_module": "@jupyter-widgets/controls",
            "_model_module_version": "1.5.0",
            "value": " 18616/18616 [03:51&lt;00:00, 80.49it/s]",
            "_view_count": null,
            "_view_module_version": "1.5.0",
            "description_tooltip": null,
            "_model_module": "@jupyter-widgets/controls",
            "layout": "IPY_MODEL_3319ae4748894dbf8b79b66af43150ee"
          },
          "model_module_version": "1.5.0"
        },
        "3e973a50d6114a81a77c31566cb305b8": {
          "model_module": "@jupyter-widgets/controls",
          "model_name": "ProgressStyleModel",
          "state": {
            "_view_name": "StyleView",
            "_model_name": "ProgressStyleModel",
            "description_width": "initial",
            "_view_module": "@jupyter-widgets/base",
            "_model_module_version": "1.5.0",
            "_view_count": null,
            "_view_module_version": "1.2.0",
            "bar_color": null,
            "_model_module": "@jupyter-widgets/controls"
          },
          "model_module_version": "1.5.0"
        },
        "e565dac931de4dc8896301836f745ffe": {
          "model_module": "@jupyter-widgets/base",
          "model_name": "LayoutModel",
          "state": {
            "_view_name": "LayoutView",
            "grid_template_rows": null,
            "right": null,
            "justify_content": null,
            "_view_module": "@jupyter-widgets/base",
            "overflow": null,
            "_model_module_version": "1.2.0",
            "_view_count": null,
            "flex_flow": null,
            "width": null,
            "min_width": null,
            "border": null,
            "align_items": null,
            "bottom": null,
            "_model_module": "@jupyter-widgets/base",
            "top": null,
            "grid_column": null,
            "overflow_y": null,
            "overflow_x": null,
            "grid_auto_flow": null,
            "grid_area": null,
            "grid_template_columns": null,
            "flex": null,
            "_model_name": "LayoutModel",
            "justify_items": null,
            "grid_row": null,
            "max_height": null,
            "align_content": null,
            "visibility": null,
            "align_self": null,
            "height": null,
            "min_height": null,
            "padding": null,
            "grid_auto_rows": null,
            "grid_gap": null,
            "max_width": null,
            "order": null,
            "_view_module_version": "1.2.0",
            "grid_template_areas": null,
            "object_position": null,
            "object_fit": null,
            "grid_auto_columns": null,
            "margin": null,
            "display": null,
            "left": null
          },
          "model_module_version": "1.2.0"
        },
        "ebcd32c4771c4dfcb9ce7abb9a0e2036": {
          "model_module": "@jupyter-widgets/controls",
          "model_name": "DescriptionStyleModel",
          "state": {
            "_view_name": "StyleView",
            "_model_name": "DescriptionStyleModel",
            "description_width": "",
            "_view_module": "@jupyter-widgets/base",
            "_model_module_version": "1.5.0",
            "_view_count": null,
            "_view_module_version": "1.2.0",
            "_model_module": "@jupyter-widgets/controls"
          },
          "model_module_version": "1.5.0"
        },
        "3319ae4748894dbf8b79b66af43150ee": {
          "model_module": "@jupyter-widgets/base",
          "model_name": "LayoutModel",
          "state": {
            "_view_name": "LayoutView",
            "grid_template_rows": null,
            "right": null,
            "justify_content": null,
            "_view_module": "@jupyter-widgets/base",
            "overflow": null,
            "_model_module_version": "1.2.0",
            "_view_count": null,
            "flex_flow": null,
            "width": null,
            "min_width": null,
            "border": null,
            "align_items": null,
            "bottom": null,
            "_model_module": "@jupyter-widgets/base",
            "top": null,
            "grid_column": null,
            "overflow_y": null,
            "overflow_x": null,
            "grid_auto_flow": null,
            "grid_area": null,
            "grid_template_columns": null,
            "flex": null,
            "_model_name": "LayoutModel",
            "justify_items": null,
            "grid_row": null,
            "max_height": null,
            "align_content": null,
            "visibility": null,
            "align_self": null,
            "height": null,
            "min_height": null,
            "padding": null,
            "grid_auto_rows": null,
            "grid_gap": null,
            "max_width": null,
            "order": null,
            "_view_module_version": "1.2.0",
            "grid_template_areas": null,
            "object_position": null,
            "object_fit": null,
            "grid_auto_columns": null,
            "margin": null,
            "display": null,
            "left": null
          },
          "model_module_version": "1.2.0"
        }
      }
    }
  },
  "cells": [
    {
      "cell_type": "markdown",
      "source": [
        "#Importing Libraries"
      ],
      "metadata": {
        "id": "3NLmzx8IWXZ8"
      }
    },
    {
      "cell_type": "code",
      "metadata": {
        "id": "-q14VN5ScNdd"
      },
      "source": [
        "import pandas as pd\n",
        "import numpy as np\n",
        "import random\n",
        "import networkx as nx\n",
        "from tqdm import tqdm\n",
        "import re\n",
        "import matplotlib.pyplot as plt\n",
        "\n",
        "from sklearn.linear_model import LogisticRegression\n",
        "from sklearn.metrics import classification_report, roc_auc_score\n",
        "from sklearn.model_selection import train_test_split\n",
        "from sklearn.metrics import confusion_matrix\n",
        "import numpy as np\n",
        "import pandas as pd\n",
        "import seaborn as sns\n",
        "import tensorflow as tf\n",
        "import matplotlib.pyplot as plt\n",
        "from   google.colab import drive"
      ],
      "execution_count": null,
      "outputs": []
    },
    {
      "cell_type": "code",
      "metadata": {
        "colab": {
          "base_uri": "https://localhost:8080/"
        },
        "id": "Dzo2PRX6cjX0",
        "outputId": "72cc42e2-ad3e-4e5d-d106-0bbc5e824227"
      },
      "source": [
        "drive.mount('/content/gdrive/')"
      ],
      "execution_count": null,
      "outputs": [
        {
          "output_type": "stream",
          "text": [
            "Drive already mounted at /content/gdrive/; to attempt to forcibly remount, call drive.mount(\"/content/gdrive/\", force_remount=True).\n"
          ],
          "name": "stdout"
        }
      ]
    },
    {
      "cell_type": "code",
      "metadata": {
        "id": "mKoZ4tzrLzYV"
      },
      "source": [
        "!cd \"/content/gdrive/MyDrive/SNA\""
      ],
      "execution_count": null,
      "outputs": []
    },
    {
      "cell_type": "code",
      "metadata": {
        "id": "rulQEV1fhvP-"
      },
      "source": [
        "path = \"/content/gdrive/MyDrive/SNA/CA-AstroPh-train.txt\""
      ],
      "execution_count": null,
      "outputs": []
    },
    {
      "cell_type": "markdown",
      "metadata": {
        "id": "DFyO6SlVjxDW"
      },
      "source": [
        "#Importing train and test dataset"
      ]
    },
    {
      "cell_type": "code",
      "metadata": {
        "id": "7wdHxSyFmPzd"
      },
      "source": [
        "with open(\"/content/gdrive/MyDrive/SNA/CA-AstroPh-train.txt\") as f:\n",
        "    fb_links = f.read().splitlines() \n",
        "\n",
        "with open(\"/content/gdrive/MyDrive/SNA/CA-AstroPh-test.txt\") as f:\n",
        "    fb_links_test = f.read().splitlines() "
      ],
      "execution_count": null,
      "outputs": []
    },
    {
      "cell_type": "code",
      "metadata": {
        "colab": {
          "base_uri": "https://localhost:8080/"
        },
        "id": "o6ZGYo_Lmq2P",
        "outputId": "98e04cad-f0f0-487e-9ad8-cbc71fa5f8b3"
      },
      "source": [
        "# captture nodes in 2 separate lists\n",
        "node_list_1 = []\n",
        "node_list_2 = []\n",
        "for i in tqdm(fb_links):\n",
        "  node_list_1.append(i.split(' ')[0])\n",
        "  node_list_2.append(i.split(' ')[1])\n",
        "\n",
        "fb_df = pd.DataFrame({'node_1': node_list_1, 'node_2': node_list_2})"
      ],
      "execution_count": null,
      "outputs": [
        {
          "output_type": "stream",
          "text": [
            "100%|██████████| 178443/178443 [00:00<00:00, 821378.49it/s]\n"
          ],
          "name": "stderr"
        }
      ]
    },
    {
      "cell_type": "code",
      "metadata": {
        "id": "QBm2iW1Xm9h9"
      },
      "source": [
        "G = nx.from_pandas_edgelist(fb_df, \"node_1\", \"node_2\", create_using=nx.Graph()) #converting the data into graph"
      ],
      "execution_count": null,
      "outputs": []
    },
    {
      "cell_type": "code",
      "metadata": {
        "id": "BAgxHN_xh462"
      },
      "source": [
        "#node_naman= list ( G.nodes())"
      ],
      "execution_count": null,
      "outputs": []
    },
    {
      "cell_type": "code",
      "metadata": {
        "id": "dsjTGwwLnGjX"
      },
      "source": [
        "# combine all nodes in a list\n",
        "node_list = node_list_1 + node_list_2\n",
        "\n",
        "\n",
        "# remove duplicate items from the list\n",
        "node_list = list(dict.fromkeys(node_list))\n",
        "\n",
        "# build adjacency matrix\n",
        "adj_G = nx.to_numpy_matrix(G)"
      ],
      "execution_count": null,
      "outputs": []
    },
    {
      "cell_type": "code",
      "metadata": {
        "id": "hfUd56h-VoEy",
        "colab": {
          "base_uri": "https://localhost:8080/"
        },
        "outputId": "513f232f-31ec-44fe-83b1-d21fdf16c452"
      },
      "source": [
        "list (G.neighbors(\"3\")) #All the neighbours of node 3"
      ],
      "execution_count": null,
      "outputs": [
        {
          "output_type": "execute_result",
          "data": {
            "text/plain": [
              "['39920',\n",
              " '33641',\n",
              " '69228',\n",
              " '45616',\n",
              " '48190',\n",
              " '81823',\n",
              " '132933',\n",
              " '44501',\n",
              " '24908',\n",
              " '48090',\n",
              " '88577',\n",
              " '81840',\n",
              " '111983',\n",
              " '122938',\n",
              " '42853',\n",
              " '122926',\n",
              " '39491',\n",
              " '96743',\n",
              " '125045',\n",
              " '79722',\n",
              " '60423',\n",
              " '105363',\n",
              " '86824',\n",
              " '289',\n",
              " '88648',\n",
              " '107466',\n",
              " '109835',\n",
              " '60813',\n",
              " '18610',\n",
              " '22555',\n",
              " '111420',\n",
              " '52699',\n",
              " '49628',\n",
              " '93363',\n",
              " '54258',\n",
              " '85838',\n",
              " '94648',\n",
              " '53719',\n",
              " '116976',\n",
              " '124092',\n",
              " '104877']"
            ]
          },
          "metadata": {
            "tags": []
          },
          "execution_count": 10
        }
      ]
    },
    {
      "cell_type": "markdown",
      "metadata": {
        "id": "Bqw_ftNl142D"
      },
      "source": [
        "#**Graph Properties**"
      ]
    },
    {
      "cell_type": "code",
      "metadata": {
        "colab": {
          "base_uri": "https://localhost:8080/"
        },
        "id": "qc7Foc8b15Ce",
        "outputId": "24df02b5-21e8-4326-fb8a-979541d4239a"
      },
      "source": [
        "# print (\"Number of cliques=\",nx.number_of_cliques(G))\n",
        "print (\"Number of self loops=\",nx.number_of_selfloops(G))"
      ],
      "execution_count": null,
      "outputs": [
        {
          "output_type": "stream",
          "text": [
            "Number of self loops= 56\n"
          ],
          "name": "stdout"
        }
      ]
    },
    {
      "cell_type": "code",
      "metadata": {
        "colab": {
          "base_uri": "https://localhost:8080/",
          "height": 862
        },
        "id": "OrSFUc-517pN",
        "outputId": "8998abf8-51b3-4ebb-9a14-345eccc44ee9"
      },
      "source": [
        "pos = nx.spring_layout(G)\n",
        "degCent = nx.degree_centrality(G) \n",
        "node_color = [20000.0 * G.degree(v) for v in G]\n",
        "node_size = [v * 10000 for v in degCent.values()]\n",
        "plt.figure(figsize=(15,15))\n",
        "nx.draw_networkx(G, pos=pos, with_labels=False,node_color=node_color,node_size=node_size)\n",
        "plt.axis(\"off\")\n",
        "plt.title( \"Degree of centrality\")\n",
        "plt.show()\n"
      ],
      "execution_count": null,
      "outputs": [
        {
          "output_type": "display_data",
          "data": {
            "image/png": "[encoded data removed]",
            "text/plain": [
              "<Figure size 1080x1080 with 1 Axes>"
            ]
          },
          "metadata": {
            "tags": []
          }
        }
      ]
    },
    {
      "cell_type": "code",
      "metadata": {
        "id": "cgji6ZWt18QK"
      },
      "source": [
        "cloCent = nx.closeness_centrality(G)\n",
        "node_size = [v * 10000 for v in cloCent.values()]\n",
        "plt.figure(figsize=(15,15))\n",
        "nx.draw_networkx(G, pos=pos, with_labels=False,node_color=node_color,node_size=node_size)\n",
        "plt.axis(\"off\")\n",
        "plt.title(\"Closeness Centrality\")\n",
        "plt.show()\n"
      ],
      "execution_count": null,
      "outputs": []
    },
    {
      "cell_type": "code",
      "metadata": {
        "id": "XVR4GUxy3qW6"
      },
      "source": [
        "betCent = nx.betweenness_centrality(G, normalized=True, endpoints=True)\n",
        "node_size = [v * 10000 for v in betCent.values()]\n",
        "plt.figure(figsize=(15,15))\n",
        "nx.draw_networkx(G, pos=pos, with_labels=False,node_color=node_color,node_size=node_size)\n",
        "plt.axis(\"off\")\n",
        "plt.title(\"Betweeness Centrality\")\n",
        "plt.show()\n"
      ],
      "execution_count": null,
      "outputs": []
    },
    {
      "cell_type": "markdown",
      "metadata": {
        "id": "0hpWgpGqXpsl"
      },
      "source": [
        "##Degree of each node"
      ]
    },
    {
      "cell_type": "code",
      "metadata": {
        "id": "U4dmfhmfsIoq"
      },
      "source": [
        "degree=[]\n",
        "for i in node_list:\n",
        "  deg= G.degree(i)\n",
        "  degree.append(deg)"
      ],
      "execution_count": null,
      "outputs": []
    },
    {
      "cell_type": "code",
      "metadata": {
        "colab": {
          "base_uri": "https://localhost:8080/"
        },
        "id": "Dop1UojOfRHe",
        "outputId": "f059ddf2-474b-4db4-a6c8-daacc1769f0f"
      },
      "source": [
        "print (\"Number of componenets in the graph= \",nx.number_connected_components(G))\n",
        "print (\"Number of edges in the graph=\",len (list (G.edges)))"
      ],
      "execution_count": null,
      "outputs": [
        {
          "output_type": "stream",
          "text": [
            "Number of componenets in the graph=  282\n",
            "Number of edges in the graph= 178443\n"
          ],
          "name": "stdout"
        }
      ]
    },
    {
      "cell_type": "markdown",
      "metadata": {
        "id": "FcRcWl1keX-x"
      },
      "source": [
        "#Preparing dummy data with no connection"
      ]
    },
    {
      "cell_type": "code",
      "metadata": {
        "id": "cqxVQVRgnO8L",
        "colab": {
          "base_uri": "https://localhost:8080/"
        },
        "outputId": "bdf744d1-9bc6-4989-c418-702224a71155"
      },
      "source": [
        "import random\n",
        "found_node=[]\n",
        "# get unconnected node-pairs\n",
        "all_unconnected_pairs = []\n",
        "random.seed=0\n",
        "# traverse adjacency matrix\n",
        "for i in tqdm(range(adj_G.shape[0])):\n",
        "  requirement= degree[i]*3         \n",
        "  found =0\n",
        "  list_to_search=random. sample(range(0, adj_G.shape[0]), requirement*10)\n",
        "  for j in list_to_search:\n",
        "    if i==j:\n",
        "      continue\n",
        "    if adj_G[i,j] == 0:\n",
        "      try:\n",
        "        if nx.shortest_path_length(G, node_list[i], node_list[j]) >=4:\n",
        "          all_unconnected_pairs.append([node_list[i],node_list[j]]  )    \n",
        "          found+=1\n",
        "      except:\n",
        "        print(\"\",end=\"\")\n",
        "    if (found >requirement):\n",
        "      break\n"
      ],
      "execution_count": null,
      "outputs": [
        {
          "output_type": "stream",
          "text": [
            "100%|██████████| 18616/18616 [06:36<00:00, 46.90it/s] \n"
          ],
          "name": "stderr"
        }
      ]
    },
    {
      "cell_type": "code",
      "metadata": {
        "id": "fDMupV97bHiy",
        "colab": {
          "base_uri": "https://localhost:8080/"
        },
        "outputId": "7c2a60c2-8634-4e2a-b6ba-b6225a6e8436"
      },
      "source": [
        "print (\"No of unconnected nodes generated\",len (all_unconnected_pairs))"
      ],
      "execution_count": null,
      "outputs": [
        {
          "output_type": "stream",
          "text": [
            "No of unconnected nodes generated 1082677\n"
          ],
          "name": "stdout"
        }
      ]
    },
    {
      "cell_type": "code",
      "metadata": {
        "id": "p9mhHfF2bHxJ"
      },
      "source": [
        "fb_df[\"link\"]=1"
      ],
      "execution_count": null,
      "outputs": []
    },
    {
      "cell_type": "markdown",
      "metadata": {
        "id": "lS-DQi0kkLSK"
      },
      "source": [
        "#Dataframe for unconnected graph created"
      ]
    },
    {
      "cell_type": "code",
      "metadata": {
        "id": "mnyprHog960W"
      },
      "source": [
        "\n",
        "node_1_unlinked = [i[0] for i in all_unconnected_pairs]\n",
        "node_2_unlinked = [i[1] for i in all_unconnected_pairs]\n",
        "\n",
        "data = pd.DataFrame({'node_1':node_1_unlinked, \n",
        "                     'node_2':node_2_unlinked})\n",
        "\n",
        "# add target variable 'link'\n",
        "data['link'] = 0"
      ],
      "execution_count": null,
      "outputs": []
    },
    {
      "cell_type": "code",
      "metadata": {
        "id": "dLrxlh7jpLOl"
      },
      "source": [
        "final_dataset = fb_df.append(data[['node_1', 'node_2', 'link']], ignore_index=True)"
      ],
      "execution_count": null,
      "outputs": []
    },
    {
      "cell_type": "code",
      "metadata": {
        "colab": {
          "base_uri": "https://localhost:8080/"
        },
        "id": "vFgFZcJ2kkSm",
        "outputId": "7ec9014b-c09e-4d39-99e1-be23844ab319"
      },
      "source": [
        "final_dataset[\"link\"].value_counts()"
      ],
      "execution_count": null,
      "outputs": [
        {
          "output_type": "execute_result",
          "data": {
            "text/plain": [
              "0    1082677\n",
              "1     178443\n",
              "Name: link, dtype: int64"
            ]
          },
          "metadata": {
            "tags": []
          },
          "execution_count": 21
        }
      ]
    },
    {
      "cell_type": "code",
      "metadata": {
        "colab": {
          "base_uri": "https://localhost:8080/"
        },
        "id": "uAI7_3Y_oyL4",
        "outputId": "aeb5481d-7471-4ba1-b64e-28989a5eec1e"
      },
      "source": [
        "fb_df[\"link\"].value_counts()"
      ],
      "execution_count": null,
      "outputs": [
        {
          "output_type": "execute_result",
          "data": {
            "text/plain": [
              "1    178443\n",
              "Name: link, dtype: int64"
            ]
          },
          "metadata": {
            "tags": []
          },
          "execution_count": 22
        }
      ]
    },
    {
      "cell_type": "code",
      "metadata": {
        "id": "Dylx1not-BmW"
      },
      "source": [
        "initial_node_count = len(G.nodes)"
      ],
      "execution_count": null,
      "outputs": []
    },
    {
      "cell_type": "code",
      "metadata": {
        "id": "1VaOfnSI-Kfw"
      },
      "source": [
        "G_final_data = nx.from_pandas_edgelist(fb_df, \"node_1\", \"node_2\", create_using=nx.Graph())"
      ],
      "execution_count": null,
      "outputs": []
    },
    {
      "cell_type": "code",
      "metadata": {
        "colab": {
          "base_uri": "https://localhost:8080/"
        },
        "id": "4Z3qVj2Xl0am",
        "outputId": "dd303c84-2635-4764-8f83-9fac80506bec"
      },
      "source": [
        "len (G_final_data.edges)"
      ],
      "execution_count": null,
      "outputs": [
        {
          "output_type": "execute_result",
          "data": {
            "text/plain": [
              "178443"
            ]
          },
          "metadata": {
            "tags": []
          },
          "execution_count": 25
        }
      ]
    },
    {
      "cell_type": "markdown",
      "metadata": {
        "id": "5MzMo1iAZTJi"
      },
      "source": [
        "#**Node2vec- Calculating the feature space from the graph**"
      ]
    },
    {
      "cell_type": "code",
      "metadata": {
        "id": "ggWDs2frZeNz"
      },
      "source": [
        "!pip install node2vec"
      ],
      "execution_count": null,
      "outputs": []
    },
    {
      "cell_type": "code",
      "metadata": {
        "id": "gngj9-6KzsBu",
        "colab": {
          "base_uri": "https://localhost:8080/",
          "height": 87,
          "referenced_widgets": [
            "2b71c572d15d44bb8de81ee14e214a31",
            "a67edefaadee47be907d2e81580f0c09",
            "52145daec46941e0b50a8b1a9dd4201d",
            "91f140c19214427d83606c4b7681fb75",
            "3e973a50d6114a81a77c31566cb305b8",
            "e565dac931de4dc8896301836f745ffe",
            "ebcd32c4771c4dfcb9ce7abb9a0e2036",
            "3319ae4748894dbf8b79b66af43150ee"
          ]
        },
        "outputId": "ee5b0c64-2f2a-407d-d364-919b4192e503"
      },
      "source": [
        "from node2vec import Node2Vec\n",
        "\n",
        "# Generate walks\n",
        "node2vec = Node2Vec(G_final_data, dimensions=100, walk_length=16, num_walks=50)\n",
        "\n",
        "# train node2vec model\n",
        "n2w_model = node2vec.fit(window=7, min_count=1)"
      ],
      "execution_count": null,
      "outputs": [
        {
          "output_type": "display_data",
          "data": {
            "application/vnd.jupyter.widget-view+json": {
              "model_id": "2b71c572d15d44bb8de81ee14e214a31",
              "version_minor": 0,
              "version_major": 2
            },
            "text/plain": [
              "HBox(children=(FloatProgress(value=0.0, description='Computing transition probabilities', max=18616.0, style=P…"
            ]
          },
          "metadata": {
            "tags": []
          }
        },
        {
          "output_type": "stream",
          "text": [
            "\rGenerating walks (CPU: 1):   0%|          | 0/50 [00:00<?, ?it/s]"
          ],
          "name": "stderr"
        },
        {
          "output_type": "stream",
          "text": [
            "\n"
          ],
          "name": "stdout"
        },
        {
          "output_type": "stream",
          "text": [
            "Generating walks (CPU: 1): 100%|██████████| 50/50 [17:18<00:00, 20.78s/it]\n"
          ],
          "name": "stderr"
        }
      ]
    },
    {
      "cell_type": "code",
      "metadata": {
        "id": "DtIXWUo0z4nB",
        "colab": {
          "base_uri": "https://localhost:8080/"
        },
        "outputId": "680c1f21-77dc-4c17-f61d-555728c45037"
      },
      "source": [
        "n2w_model.most_similar(\"3\")"
      ],
      "execution_count": null,
      "outputs": [
        {
          "output_type": "stream",
          "text": [
            "/usr/local/lib/python3.7/dist-packages/ipykernel_launcher.py:1: DeprecationWarning: Call to deprecated `most_similar` (Method will be removed in 4.0.0, use self.wv.most_similar() instead).\n",
            "  \"\"\"Entry point for launching an IPython kernel.\n"
          ],
          "name": "stderr"
        },
        {
          "output_type": "execute_result",
          "data": {
            "text/plain": [
              "[('124092', 0.9511211514472961),\n",
              " ('69228', 0.9506341218948364),\n",
              " ('48190', 0.9475717544555664),\n",
              " ('111420', 0.9471034407615662),\n",
              " ('53719', 0.9470353126525879),\n",
              " ('81823', 0.9448241591453552),\n",
              " ('85838', 0.9435477256774902),\n",
              " ('39491', 0.943482518196106),\n",
              " ('81840', 0.9402889013290405),\n",
              " ('14354', 0.9395026564598083)]"
            ]
          },
          "metadata": {
            "tags": []
          },
          "execution_count": 28
        }
      ]
    },
    {
      "cell_type": "code",
      "metadata": {
        "id": "2yDnv4CA0dFK"
      },
      "source": [
        ""
      ],
      "execution_count": null,
      "outputs": []
    },
    {
      "cell_type": "markdown",
      "metadata": {
        "id": "DUIbNRmrYi6P"
      },
      "source": [
        "#**Final dataset balance**"
      ]
    },
    {
      "cell_type": "code",
      "metadata": {
        "id": "KeDplvHUYiGE",
        "colab": {
          "base_uri": "https://localhost:8080/"
        },
        "outputId": "01801d29-a4fc-49d1-f6a6-4f8c12ce12ad"
      },
      "source": [
        "#nx.number_of_cliques(G_final_data)\n",
        "final_dataset[\"link\"].value_counts()"
      ],
      "execution_count": null,
      "outputs": [
        {
          "output_type": "execute_result",
          "data": {
            "text/plain": [
              "0    1082677\n",
              "1     178443\n",
              "Name: link, dtype: int64"
            ]
          },
          "metadata": {
            "tags": []
          },
          "execution_count": 29
        }
      ]
    },
    {
      "cell_type": "markdown",
      "metadata": {
        "id": "2yzHbuFTYnR_"
      },
      "source": [
        "#**Calculating feature values for each node**"
      ]
    },
    {
      "cell_type": "code",
      "metadata": {
        "id": "dX7i1zkvVQOE",
        "colab": {
          "base_uri": "https://localhost:8080/"
        },
        "outputId": "fbbafb1d-f07c-46c9-8076-be7ea03349fd"
      },
      "source": [
        "x = [(n2w_model[i]+n2w_model[j]) for i,j in zip(final_dataset['node_1'], final_dataset['node_2'])]"
      ],
      "execution_count": null,
      "outputs": [
        {
          "output_type": "stream",
          "text": [
            "/usr/local/lib/python3.7/dist-packages/ipykernel_launcher.py:1: DeprecationWarning: Call to deprecated `__getitem__` (Method will be removed in 4.0.0, use self.wv.__getitem__() instead).\n",
            "  \"\"\"Entry point for launching an IPython kernel.\n"
          ],
          "name": "stderr"
        }
      ]
    },
    {
      "cell_type": "code",
      "metadata": {
        "colab": {
          "base_uri": "https://localhost:8080/"
        },
        "id": "wF6HUvNMNc2M",
        "outputId": "1911352f-c9ed-4e98-9439-dbee46de17fd"
      },
      "source": [
        "print (\"\\t\\t\\tEmbedding of Node\",node_list[0], \"\\n\",x[0])"
      ],
      "execution_count": null,
      "outputs": [
        {
          "output_type": "stream",
          "text": [
            "\t\t\tEmbedding of Node 70718 \n",
            " [-0.8396269  -0.3383903  -1.4534988  -2.0951457  -1.7077727  -0.28208953\n",
            " -0.50800794 -0.16813874 -0.56951374  0.13483049 -0.42126548 -1.6664457\n",
            " -0.59187806 -0.9663906  -0.5548525   1.33477     0.42624077 -0.78879607\n",
            " -0.49857485 -2.1055336   0.57379866  0.91817105  0.8654206   0.18371966\n",
            "  0.7194607   0.39413548 -0.6523372  -0.36365065 -0.6031277  -0.5235122\n",
            "  1.5665679   1.0652068  -0.5820079  -0.37059295 -1.6724473   0.20088176\n",
            " -1.121522    1.1875961   0.20666628  1.1072322   2.2512512  -0.01148426\n",
            "  0.11683507 -0.3893227  -0.10946038  2.1255865   0.7216568  -0.02862898\n",
            "  0.29751992 -0.02389446 -1.2896621  -0.30111617  1.8088119   1.2296716\n",
            "  1.3281698   0.30918074  0.8640597   1.3221458  -0.7457082   0.23568177\n",
            " -0.8623277   0.51676226 -0.4222242  -1.3224814   0.62942684 -0.952767\n",
            " -0.3744905  -0.51516855 -0.67444706 -0.06295997 -0.5767625  -1.357805\n",
            " -1.0188975  -1.3457744   0.04282556 -0.3708102  -0.45288154 -0.6929661\n",
            " -1.8937439   0.34712002  1.5614173  -0.42806867 -1.6375964  -0.9122273\n",
            " -1.1317892   2.6240058   0.8057742   0.26043922  0.36433297 -0.14112577\n",
            " -0.93564045 -0.46185207  0.67983985  0.79946685  1.3878697   0.43129343\n",
            "  0.6661475   1.3341403  -0.01569056 -0.04287746]\n"
          ],
          "name": "stdout"
        }
      ]
    },
    {
      "cell_type": "markdown",
      "metadata": {
        "id": "KGYunRcfYxdb"
      },
      "source": [
        "#Splitting the data  on the Train Dataset"
      ]
    },
    {
      "cell_type": "code",
      "metadata": {
        "id": "TIylkgDs-RYn"
      },
      "source": [
        "import numpy as np\n",
        "from sklearn.model_selection import train_test_split\n",
        "xtrain, xtest, ytrain, ytest = train_test_split(np.array(x), final_dataset['link'], \n",
        "                                                test_size = 0.3, \n",
        "                                                random_state = 35)"
      ],
      "execution_count": null,
      "outputs": []
    },
    {
      "cell_type": "markdown",
      "metadata": {
        "id": "MogGIQ69ZjZf"
      },
      "source": [
        "#Preparing the Test data"
      ]
    },
    {
      "cell_type": "code",
      "metadata": {
        "id": "MqvuIfTUaL3F",
        "colab": {
          "base_uri": "https://localhost:8080/"
        },
        "outputId": "2c2a162a-0960-41be-c21d-163fe5432f5f"
      },
      "source": [
        "df_test=pd.DataFrame()\n",
        "# Test data \n",
        "# captture nodes in 2 separate lists\n",
        "node_list_1_test = []\n",
        "node_list_2_test = []\n",
        "for i in tqdm(fb_links_test):\n",
        "  node_list_1_test.append(i.split(' ')[0])\n",
        "  node_list_2_test.append(i.split(' ')[1])\n",
        "\n",
        "fb_df_test = pd.DataFrame({'node_1': node_list_1_test, 'node_2': node_list_2_test})\n",
        "df_test[\"node_1\"]= node_list_1_test\n",
        "df_test[\"node_2\"]= node_list_2_test\n"
      ],
      "execution_count": null,
      "outputs": [
        {
          "output_type": "stream",
          "text": [
            "100%|██████████| 19667/19667 [00:00<00:00, 679327.48it/s]\n"
          ],
          "name": "stderr"
        }
      ]
    },
    {
      "cell_type": "code",
      "metadata": {
        "id": "XRwro_tlaW0S"
      },
      "source": [
        "index_drop=[]\n",
        "for i in range( len (df_test[\"node_1\"])):\n",
        "  if df_test[\"node_1\"][i] not in node_list:\n",
        "    index_drop.append(i)\n",
        "    continue\n",
        "  if df_test[\"node_2\"][i] not in node_list:\n",
        "    index_drop.append(i)"
      ],
      "execution_count": null,
      "outputs": []
    },
    {
      "cell_type": "code",
      "metadata": {
        "id": "cCMsea12aW9m",
        "colab": {
          "base_uri": "https://localhost:8080/"
        },
        "outputId": "2cd285e1-3922-45d3-e69f-f6c3b87dbdb6"
      },
      "source": [
        "df_final_test= df_test.drop( index=index_drop)\n",
        "x_test = [(n2w_model[i]+n2w_model[j]) for i,j in zip(df_final_test[\"node_1\"], df_final_test[\"node_2\"])]"
      ],
      "execution_count": null,
      "outputs": [
        {
          "output_type": "stream",
          "text": [
            "/usr/local/lib/python3.7/dist-packages/ipykernel_launcher.py:2: DeprecationWarning: Call to deprecated `__getitem__` (Method will be removed in 4.0.0, use self.wv.__getitem__() instead).\n",
            "  \n"
          ],
          "name": "stderr"
        }
      ]
    },
    {
      "cell_type": "markdown",
      "metadata": {
        "id": "A47pZ9CYx1OH"
      },
      "source": [
        "#**Logistic Regression**"
      ]
    },
    {
      "cell_type": "code",
      "metadata": {
        "id": "HSCDOsiK-VFT",
        "colab": {
          "base_uri": "https://localhost:8080/"
        },
        "outputId": "b5b6b2a7-c83e-4730-837d-5d9c56a9fa4f"
      },
      "source": [
        "lr = LogisticRegression(class_weight=\"balanced\")\n",
        "lr.fit(xtrain, ytrain)"
      ],
      "execution_count": null,
      "outputs": [
        {
          "output_type": "execute_result",
          "data": {
            "text/plain": [
              "LogisticRegression(C=1.0, class_weight='balanced', dual=False,\n",
              "                   fit_intercept=True, intercept_scaling=1, l1_ratio=None,\n",
              "                   max_iter=100, multi_class='auto', n_jobs=None, penalty='l2',\n",
              "                   random_state=None, solver='lbfgs', tol=0.0001, verbose=0,\n",
              "                   warm_start=False)"
            ]
          },
          "metadata": {
            "tags": []
          },
          "execution_count": 35
        }
      ]
    },
    {
      "cell_type": "code",
      "metadata": {
        "id": "WH1PGEaCV3p8",
        "colab": {
          "base_uri": "https://localhost:8080/"
        },
        "outputId": "2dc8ea09-114d-450f-a101-b7ee6d86dad6"
      },
      "source": [
        "predictions = lr.predict_proba(xtest)\n",
        "roc_auc_score(ytest, predictions[:,1])"
      ],
      "execution_count": null,
      "outputs": [
        {
          "output_type": "execute_result",
          "data": {
            "text/plain": [
              "0.7806242627830651"
            ]
          },
          "metadata": {
            "tags": []
          },
          "execution_count": 36
        }
      ]
    },
    {
      "cell_type": "markdown",
      "metadata": {
        "id": "VnZVX7kJV0ru"
      },
      "source": [
        "#Logistic Regression on test data"
      ]
    },
    {
      "cell_type": "code",
      "metadata": {
        "id": "Vmr_lTqaVS30",
        "colab": {
          "base_uri": "https://localhost:8080/"
        },
        "outputId": "636664e8-bb5b-4c9f-c6d5-0690c3b8f6d4"
      },
      "source": [
        "prediction= lr.predict(x_test)\n",
        "accuracy_matrix=np.unique(prediction, return_counts=True)\n",
        "accuracy_lr= (accuracy_matrix[1][1]/((accuracy_matrix[1][0]+accuracy_matrix[1][1])))\n",
        "print(\"Accuracy of the Logistic regression model on test data set\",100*np.round(accuracy_lr,4))"
      ],
      "execution_count": null,
      "outputs": [
        {
          "output_type": "stream",
          "text": [
            "Accuracy of the Logistic regression model on test data set 74.32\n"
          ],
          "name": "stdout"
        }
      ]
    },
    {
      "cell_type": "markdown",
      "metadata": {
        "id": "qmt8yR-XVTKx"
      },
      "source": [
        "#**Nueral Network model** "
      ]
    },
    {
      "cell_type": "code",
      "metadata": {
        "id": "ijFdnHFcbRr9"
      },
      "source": [
        "import numpy as np\n",
        "import matplotlib.pyplot as plt\n",
        "from skimage import feature # This pacakge is used for LBP feature extraction\n",
        "from sklearn import svm # This pacakge is used for svm classification\n",
        "from sklearn.utils import shuffle\n",
        "from sklearn import metrics\n",
        "from sklearn.metrics import accuracy_score\n",
        "%matplotlib inline\n",
        "import cv2\n",
        "import seaborn as sns # This pacakge is used for better visualization of data (e.g confusion matrix)\n",
        "import pandas as pd\n",
        "from keras.datasets import mnist\n",
        "import tensorflow as tf"
      ],
      "execution_count": null,
      "outputs": []
    },
    {
      "cell_type": "code",
      "metadata": {
        "id": "FPhlYrFPB4qF"
      },
      "source": [
        "model= tf.keras.models.Sequential(  [ \n",
        "                                      tf.keras.layers.Flatten( input_shape= [100,1]),\n",
        "                                      tf.keras.layers.Dense(512, activation=tf.nn.relu),     \n",
        "                                      tf.keras.layers.Dense(64, activation=tf.nn.relu),\n",
        "                                      tf.keras.layers.Dense(1, activation=tf.nn.sigmoid)\n",
        "                                      ]\n",
        "                                    )"
      ],
      "execution_count": null,
      "outputs": []
    },
    {
      "cell_type": "code",
      "metadata": {
        "id": "FSTGAo2iEUlY"
      },
      "source": [
        "model.compile( optimizer=tf.optimizers.SGD(learning_rate=0.001)  , loss=tf.keras.losses.binary_crossentropy, metrics=[\"accuracy\"])"
      ],
      "execution_count": null,
      "outputs": []
    },
    {
      "cell_type": "code",
      "metadata": {
        "id": "STJRb2T5Cp4S",
        "colab": {
          "base_uri": "https://localhost:8080/"
        },
        "outputId": "141fa4dd-f56f-42d3-97c3-3f222aa81502"
      },
      "source": [
        "model.fit( xtrain, ytrain, epochs=10, batch_size=32)"
      ],
      "execution_count": null,
      "outputs": [
        {
          "output_type": "stream",
          "text": [
            "Epoch 1/10\n",
            "27587/27587 [==============================] - 51s 2ms/step - loss: 0.3355 - accuracy: 0.8717\n",
            "Epoch 2/10\n",
            "27587/27587 [==============================] - 49s 2ms/step - loss: 0.0917 - accuracy: 0.9833\n",
            "Epoch 3/10\n",
            "27587/27587 [==============================] - 49s 2ms/step - loss: 0.0368 - accuracy: 0.9942\n",
            "Epoch 4/10\n",
            "27587/27587 [==============================] - 49s 2ms/step - loss: 0.0233 - accuracy: 0.9958\n",
            "Epoch 5/10\n",
            "27587/27587 [==============================] - 49s 2ms/step - loss: 0.0177 - accuracy: 0.9968\n",
            "Epoch 6/10\n",
            "27587/27587 [==============================] - 49s 2ms/step - loss: 0.0142 - accuracy: 0.9973\n",
            "Epoch 7/10\n",
            "27587/27587 [==============================] - 49s 2ms/step - loss: 0.0119 - accuracy: 0.9976\n",
            "Epoch 8/10\n",
            "27587/27587 [==============================] - 49s 2ms/step - loss: 0.0104 - accuracy: 0.9979\n",
            "Epoch 9/10\n",
            "27587/27587 [==============================] - 49s 2ms/step - loss: 0.0094 - accuracy: 0.9981\n",
            "Epoch 10/10\n",
            "27587/27587 [==============================] - 49s 2ms/step - loss: 0.0083 - accuracy: 0.9983\n"
          ],
          "name": "stdout"
        },
        {
          "output_type": "execute_result",
          "data": {
            "text/plain": [
              "<tensorflow.python.keras.callbacks.History at 0x7f21882d3810>"
            ]
          },
          "metadata": {
            "tags": []
          },
          "execution_count": 41
        }
      ]
    },
    {
      "cell_type": "code",
      "metadata": {
        "colab": {
          "base_uri": "https://localhost:8080/"
        },
        "id": "-QKuL2tkE1KH",
        "outputId": "686898ee-4d60-4899-edc5-bc5ba4fe9dcc"
      },
      "source": [
        "accuracy=model.evaluate(xtest,ytest)\n",
        "print(\"Accuracy of the model-\",'\\033[1m'+ str (100*np.round(accuracy[1],4))+\"%\"+'\\033[0m')"
      ],
      "execution_count": null,
      "outputs": [
        {
          "output_type": "stream",
          "text": [
            "11823/11823 [==============================] - 18s 2ms/step - loss: 0.0085 - accuracy: 0.9981\n",
            "Accuracy of the model- \u001b[1m99.81%\u001b[0m\n"
          ],
          "name": "stdout"
        }
      ]
    },
    {
      "cell_type": "markdown",
      "metadata": {
        "id": "ElFcXs8RcC9A"
      },
      "source": [
        "#Nueral network Accuracy on Test Dataset"
      ]
    },
    {
      "cell_type": "code",
      "metadata": {
        "id": "Ll4vReRoOfJF"
      },
      "source": [
        "prediction=model.predict_classes( np.reshape(x_test, [19516,100,1]))\n",
        "accuracy_matrix=np.unique(prediction, return_counts=True)\n",
        "accuracy_ann= (accuracy_matrix[1][1]/((accuracy_matrix[1][0]+accuracy_matrix[1][1])))"
      ],
      "execution_count": null,
      "outputs": []
    },
    {
      "cell_type": "code",
      "metadata": {
        "colab": {
          "base_uri": "https://localhost:8080/"
        },
        "id": "vyiMMSbxvHgR",
        "outputId": "e8de2b53-11d7-43bb-9e8a-9951fe7d7ee6"
      },
      "source": [
        "print(\"Accuracy of the model on test data set\",'\\033[1m'+ str (100*np.round(accuracy_ann,4))+\"%\"+'\\033[0m')"
      ],
      "execution_count": null,
      "outputs": [
        {
          "output_type": "stream",
          "text": [
            "Accuracy of the model on test data set \u001b[1m93.44%\u001b[0m\n"
          ],
          "name": "stdout"
        }
      ]
    },
    {
      "cell_type": "code",
      "metadata": {
        "colab": {
          "base_uri": "https://localhost:8080/"
        },
        "id": "d-AdlLfpUv0j",
        "outputId": "df0a0e41-7429-4c0d-ccd6-8d4f8886830b"
      },
      "source": [
        "model.summary()"
      ],
      "execution_count": null,
      "outputs": [
        {
          "output_type": "stream",
          "text": [
            "Model: \"sequential\"\n",
            "_________________________________________________________________\n",
            "Layer (type)                 Output Shape              Param #   \n",
            "=================================================================\n",
            "flatten (Flatten)            (None, 100)               0         \n",
            "_________________________________________________________________\n",
            "dense (Dense)                (None, 512)               51712     \n",
            "_________________________________________________________________\n",
            "dense_1 (Dense)              (None, 64)                32832     \n",
            "_________________________________________________________________\n",
            "dense_2 (Dense)              (None, 1)                 65        \n",
            "=================================================================\n",
            "Total params: 84,609\n",
            "Trainable params: 84,609\n",
            "Non-trainable params: 0\n",
            "_________________________________________________________________\n"
          ],
          "name": "stdout"
        }
      ]
    },
    {
      "cell_type": "markdown",
      "metadata": {
        "id": "uO9CZ3HCZTYt"
      },
      "source": [
        "#**Jaccard**"
      ]
    },
    {
      "cell_type": "code",
      "metadata": {
        "id": "sMzDa0pMaHiZ"
      },
      "source": [
        "jaccard_list=[]\n",
        "for i in range( len (final_dataset)):\n",
        "  v=nx.jaccard_coefficient( G,[(  final_dataset[\"node_1\"][i],final_dataset[\"node_2\"][i])])\n",
        "  for a,b,c in v:\n",
        "    jaccard_list.append(c)"
      ],
      "execution_count": null,
      "outputs": []
    },
    {
      "cell_type": "code",
      "metadata": {
        "id": "trf8aH8ZaqjL"
      },
      "source": [
        "xtrain, xtest, ytrain, ytest = train_test_split(jaccard_list, final_dataset['link'], \n",
        "                                                test_size = 0.3, \n",
        "                                                random_state = 35)"
      ],
      "execution_count": null,
      "outputs": []
    },
    {
      "cell_type": "code",
      "metadata": {
        "id": "yyfiPob8dF6j"
      },
      "source": [
        "model= tf.keras.models.Sequential(  [ \n",
        "                                      tf.keras.layers.Flatten( input_shape= [1,1]),\n",
        "                                      tf.keras.layers.Dense(512, activation=tf.nn.relu),     \n",
        "                                      tf.keras.layers.Dense(64, activation=tf.nn.relu),\n",
        "                                      tf.keras.layers.Dense(1, activation=tf.nn.sigmoid)\n",
        "                                      ]\n",
        "                                    )"
      ],
      "execution_count": null,
      "outputs": []
    },
    {
      "cell_type": "code",
      "metadata": {
        "id": "bDAa62yweJPg"
      },
      "source": [
        "model.compile( optimizer=tf.optimizers.SGD(learning_rate=0.001)  , loss=tf.keras.losses.binary_crossentropy, metrics=[\"accuracy\"])"
      ],
      "execution_count": null,
      "outputs": []
    },
    {
      "cell_type": "code",
      "metadata": {
        "colab": {
          "base_uri": "https://localhost:8080/"
        },
        "id": "optoCVc3eSwt",
        "outputId": "9115c9fd-0052-48b3-c7bd-f7a69e482709"
      },
      "source": [
        "model.fit( xtrain, list (ytrain), epochs=10, batch_size=32)"
      ],
      "execution_count": null,
      "outputs": [
        {
          "output_type": "stream",
          "text": [
            "Epoch 1/10\n",
            "27587/27587 [==============================] - 47s 2ms/step - loss: 0.4547 - accuracy: 0.8588\n",
            "Epoch 2/10\n",
            "27587/27587 [==============================] - 47s 2ms/step - loss: 0.2944 - accuracy: 0.8839\n",
            "Epoch 3/10\n",
            "27587/27587 [==============================] - 48s 2ms/step - loss: 0.1607 - accuracy: 0.9424\n",
            "Epoch 4/10\n",
            "27587/27587 [==============================] - 47s 2ms/step - loss: 0.1042 - accuracy: 0.9653\n",
            "Epoch 5/10\n",
            "27587/27587 [==============================] - 47s 2ms/step - loss: 0.0785 - accuracy: 0.9750\n",
            "Epoch 6/10\n",
            "27587/27587 [==============================] - 47s 2ms/step - loss: 0.0641 - accuracy: 0.9806\n",
            "Epoch 7/10\n",
            "27587/27587 [==============================] - 47s 2ms/step - loss: 0.0555 - accuracy: 0.9836\n",
            "Epoch 8/10\n",
            "27587/27587 [==============================] - 47s 2ms/step - loss: 0.0492 - accuracy: 0.9861\n",
            "Epoch 9/10\n",
            "27587/27587 [==============================] - 48s 2ms/step - loss: 0.0449 - accuracy: 0.9877\n",
            "Epoch 10/10\n",
            "27587/27587 [==============================] - 48s 2ms/step - loss: 0.0418 - accuracy: 0.9887\n"
          ],
          "name": "stdout"
        },
        {
          "output_type": "execute_result",
          "data": {
            "text/plain": [
              "<tensorflow.python.keras.callbacks.History at 0x7f21696d0510>"
            ]
          },
          "metadata": {
            "tags": []
          },
          "execution_count": 111
        }
      ]
    },
    {
      "cell_type": "code",
      "metadata": {
        "colab": {
          "base_uri": "https://localhost:8080/"
        },
        "id": "vqdj0Be1fBiY",
        "outputId": "405a029a-a9e2-431e-c674-cdb402ba2ae9"
      },
      "source": [
        "accuracy=model.evaluate(xtest,list (ytest))\n",
        "print(\"Accuracy of the model-\",'\\033[1m'+ str (100*np.round(accuracy[1],4))+\"%\"+'\\033[0m')"
      ],
      "execution_count": null,
      "outputs": [
        {
          "output_type": "stream",
          "text": [
            "11823/11823 [==============================] - 17s 1ms/step - loss: 0.0396 - accuracy: 0.9890\n",
            "Accuracy of the model- \u001b[1m98.9%\u001b[0m\n"
          ],
          "name": "stdout"
        }
      ]
    },
    {
      "cell_type": "code",
      "metadata": {
        "id": "ByZe5Xnvt91r"
      },
      "source": [
        "jaccard_list_test=[]\n",
        "for i in df_final_test.index:\n",
        "  v= nx.jaccard_coefficient( G,[( df_final_test[\"node_1\"][i],df_final_test[\"node_2\"][i])])\n",
        "  for a,b,c in v:\n",
        "    jaccard_list_test.append(c)\n",
        "  #  print(c)\n"
      ],
      "execution_count": null,
      "outputs": []
    },
    {
      "cell_type": "code",
      "metadata": {
        "colab": {
          "base_uri": "https://localhost:8080/"
        },
        "id": "-nUIeycnfKWW",
        "outputId": "fa7f33cc-b5e7-4582-f908-b8f18f4b33b7"
      },
      "source": [
        "prediction=model.predict_classes( np.reshape(jaccard_list_test, [19516,1,1]))\n",
        "accuracy_matrix=np.unique(prediction, return_counts=True)\n",
        "accuracy_ann= (accuracy_matrix[1][1]/((accuracy_matrix[1][0]+accuracy_matrix[1][1])))"
      ],
      "execution_count": null,
      "outputs": [
        {
          "output_type": "stream",
          "text": [
            "/usr/local/lib/python3.7/dist-packages/tensorflow/python/keras/engine/sequential.py:450: UserWarning: `model.predict_classes()` is deprecated and will be removed after 2021-01-01. Please use instead:* `np.argmax(model.predict(x), axis=-1)`,   if your model does multi-class classification   (e.g. if it uses a `softmax` last-layer activation).* `(model.predict(x) > 0.5).astype(\"int32\")`,   if your model does binary classification   (e.g. if it uses a `sigmoid` last-layer activation).\n",
            "  warnings.warn('`model.predict_classes()` is deprecated and '\n"
          ],
          "name": "stderr"
        }
      ]
    },
    {
      "cell_type": "code",
      "metadata": {
        "colab": {
          "base_uri": "https://localhost:8080/"
        },
        "id": "0lS8aGuAfM7_",
        "outputId": "45912c33-1409-4b9e-cbc1-057d9369b656"
      },
      "source": [
        "print(\"Accuracy of the model on test data set\",'\\033[1m'+ str (100*np.round(accuracy_ann,4))+\"%\"+'\\033[0m')"
      ],
      "execution_count": null,
      "outputs": [
        {
          "output_type": "stream",
          "text": [
            "Accuracy of the model on test data set \u001b[1m92.73%\u001b[0m\n"
          ],
          "name": "stdout"
        }
      ]
    },
    {
      "cell_type": "code",
      "metadata": {
        "colab": {
          "base_uri": "https://localhost:8080/",
          "height": 284
        },
        "id": "0JcfK6bsEYrM",
        "outputId": "4e19af91-cb02-4d86-ea8d-14dae8e2a30f"
      },
      "source": [
        "plt.scatter( jaccard_list, list (final_dataset['link']),cmap=\"viridis\")"
      ],
      "execution_count": null,
      "outputs": [
        {
          "output_type": "execute_result",
          "data": {
            "text/plain": [
              "<matplotlib.collections.PathCollection at 0x7f2166f214d0>"
            ]
          },
          "metadata": {
            "tags": []
          },
          "execution_count": 125
        },
        {
          "output_type": "display_data",
          "data": {
            "image/png": "[encoded data removed]",
            "text/plain": [
              "<Figure size 432x288 with 1 Axes>"
            ]
          },
          "metadata": {
            "tags": [],
            "needs_background": "light"
          }
        }
      ]
    },
    {
      "cell_type": "code",
      "metadata": {
        "id": "60sXhWErEnUM"
      },
      "source": [
        ""
      ],
      "execution_count": null,
      "outputs": []
    }
  ]
}